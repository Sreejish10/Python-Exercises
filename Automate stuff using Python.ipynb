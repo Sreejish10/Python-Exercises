{
 "cells": [
  {
   "cell_type": "markdown",
   "metadata": {},
   "source": [
    "Data dictionary"
   ]
  },
  {
   "cell_type": "code",
   "execution_count": 7,
   "metadata": {},
   "outputs": [
    {
     "name": "stdout",
     "output_type": "stream",
     "text": [
      "Enter the name :(blank to quit)\n",
      "shan\n",
      "I donot have this person birthday, kindly enter the birth date of shan\n",
      "16th june\n",
      "Birthday is updated\n",
      "Enter the name :(blank to quit)\n",
      "\n"
     ]
    }
   ],
   "source": [
    "# create a burthday database\n",
    "birthdays = {'Alice': 'Apr 1', 'John' : '2nd Apr', 'Sreejish' : '10 Aug'}\n",
    "while True:\n",
    "    print('Enter the name :(blank to quit)')\n",
    "    name = input()\n",
    "    if name =='':\n",
    "        break\n",
    "\n",
    "    if name in birthdays:\n",
    "        print('the birth date of '+name+' is '+birthdays[name])\n",
    "    else:\n",
    "        print('I donot have this person birthday, kindly enter the birth date of ' +name)\n",
    "        birthdate = input()\n",
    "        birthdays[name]=birthdate\n",
    "        print('Birthday is updated')"
   ]
  },
  {
   "cell_type": "code",
   "execution_count": 13,
   "metadata": {},
   "outputs": [
    {
     "data": {
      "text/plain": [
       "'Apr 1'"
      ]
     },
     "execution_count": 13,
     "metadata": {},
     "output_type": "execute_result"
    }
   ],
   "source": [
    "birthdays.get('Alice',0) # get method to find value for  akey"
   ]
  },
  {
   "cell_type": "code",
   "execution_count": 15,
   "metadata": {},
   "outputs": [],
   "source": [
    "birthdays['Alice']='7th Apr'"
   ]
  },
  {
   "cell_type": "code",
   "execution_count": 17,
   "metadata": {},
   "outputs": [
    {
     "data": {
      "text/plain": [
       "'7th Apr'"
      ]
     },
     "execution_count": 17,
     "metadata": {},
     "output_type": "execute_result"
    }
   ],
   "source": [
    "birthdays.setdefault('Alice','2nd Apr') # to check if key exists in dict"
   ]
  },
  {
   "cell_type": "code",
   "execution_count": 18,
   "metadata": {},
   "outputs": [
    {
     "name": "stdout",
     "output_type": "stream",
     "text": [
      "{' ': 7, 'i': 4, 't': 2, 's': 3, 'a': 1, 'w': 2, 'e': 2, 'o': 4, 'm': 1, 'u': 1, 'n': 3, 'g': 2, 'P': 1, 'y': 1, 'h': 1, 'f': 1, 'r': 2, 'k': 1}\n"
     ]
    }
   ],
   "source": [
    "# count no of characters in a message\n",
    "message = ' it is awesome using Python for working'\n",
    "count={}\n",
    "for character in message:\n",
    "    count.setdefault(character,0)\n",
    "    count[character]=count[character] +1\n",
    "print(count)"
   ]
  },
  {
   "cell_type": "code",
   "execution_count": 26,
   "metadata": {},
   "outputs": [
    {
     "name": "stdout",
     "output_type": "stream",
     "text": [
      "{' ': 7,\n",
      " 'P': 1,\n",
      " 'a': 1,\n",
      " 'e': 2,\n",
      " 'f': 1,\n",
      " 'g': 2,\n",
      " 'h': 1,\n",
      " 'i': 4,\n",
      " 'k': 1,\n",
      " 'm': 1,\n",
      " 'n': 3,\n",
      " 'o': 4,\n",
      " 'r': 2,\n",
      " 's': 3,\n",
      " 't': 2,\n",
      " 'u': 1,\n",
      " 'w': 2,\n",
      " 'y': 1}\n"
     ]
    },
    {
     "data": {
      "text/plain": [
       "\"{' ': 7,\\n 'P': 1,\\n 'a': 1,\\n 'e': 2,\\n 'f': 1,\\n 'g': 2,\\n 'h': 1,\\n 'i': 4,\\n 'k': 1,\\n 'm': 1,\\n 'n': 3,\\n 'o': 4,\\n 'r': 2,\\n 's': 3,\\n 't': 2,\\n 'u': 1,\\n 'w': 2,\\n 'y': 1}\""
      ]
     },
     "execution_count": 26,
     "metadata": {},
     "output_type": "execute_result"
    }
   ],
   "source": [
    "# pretty print, count no of characters in a message\n",
    "import pprint\n",
    "message = ' it is awesome using Python for working'\n",
    "count={}\n",
    "for character in message:\n",
    "    count.setdefault(character,0)\n",
    "    count[character]=count[character] +1\n",
    "pprint.pprint(count)\n",
    "pprint.pformat(count)"
   ]
  },
  {
   "cell_type": "code",
   "execution_count": 31,
   "metadata": {},
   "outputs": [
    {
     "data": {
      "text/plain": [
       "7"
      ]
     },
     "execution_count": 31,
     "metadata": {},
     "output_type": "execute_result"
    }
   ],
   "source": [
    "#maintain an inventory\n",
    "allGuests = {'Alice': {'apples': 5, 'pretzels': 12},'Bob': {'ham sandwiches': 3, 'apples': 2},\n",
    "             'Carol': {'cups': 3, 'apple pies': 1}}\n",
    "def totalbrought(guest,item):\n",
    "    nobrought = 0\n",
    "    for k, v in guest.items():\n",
    "        nobrought =nobrought + v.get(item,0)\n",
    "    return nobrought\n",
    "\n",
    "totalbrought(allGuests,'apples')"
   ]
  },
  {
   "cell_type": "markdown",
   "metadata": {},
   "source": [
    "Manipulating strings"
   ]
  },
  {
   "cell_type": "code",
   "execution_count": null,
   "metadata": {},
   "outputs": [],
   "source": [
    "#password locker project\n",
    "#! python 3\n",
    "#pw.py - An insecue password manager\n",
    "\n",
    "passwords = {'email':'aaaaaaaaaahgbibbbjj',\n",
    "            'blog': 'rvdwsefdrt',\n",
    "            'luggage':'12345'}"
   ]
  },
  {
   "cell_type": "code",
   "execution_count": 3,
   "metadata": {},
   "outputs": [],
   "source": [
    "tableData = [['apples', 'oranges', 'cherries', 'banana'],\n",
    " ['Alice', 'Bob', 'Carol', 'David'],\n",
    " ['dogs', 'cats', 'moose', 'goose']]"
   ]
  },
  {
   "cell_type": "code",
   "execution_count": 37,
   "metadata": {},
   "outputs": [
    {
     "data": {
      "text/plain": [
       "5"
      ]
     },
     "execution_count": 37,
     "metadata": {},
     "output_type": "execute_result"
    }
   ],
   "source": [
    "#find longest string in each list\n",
    "x=[]\n",
    "for j in tableData[2]:\n",
    "    x.append(len(j))\n",
    "max(x)"
   ]
  },
  {
   "cell_type": "code",
   "execution_count": 6,
   "metadata": {},
   "outputs": [
    {
     "data": {
      "text/plain": [
       "'yt'"
      ]
     },
     "execution_count": 6,
     "metadata": {},
     "output_type": "execute_result"
    }
   ],
   "source": [
    "text = 'python'\n",
    "object1 =slice(1,3)\n",
    "text[object1]"
   ]
  }
 ],
 "metadata": {
  "kernelspec": {
   "display_name": "Python 3",
   "language": "python",
   "name": "python3"
  },
  "language_info": {
   "codemirror_mode": {
    "name": "ipython",
    "version": 3
   },
   "file_extension": ".py",
   "mimetype": "text/x-python",
   "name": "python",
   "nbconvert_exporter": "python",
   "pygments_lexer": "ipython3",
   "version": "3.7.3"
  }
 },
 "nbformat": 4,
 "nbformat_minor": 2
}
